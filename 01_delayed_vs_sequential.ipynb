{
 "cells": [
  {
   "cell_type": "code",
   "execution_count": 1,
   "metadata": {},
   "outputs": [],
   "source": [
    "from time import sleep\n",
    "from dask import delayed"
   ]
  },
  {
   "cell_type": "code",
   "execution_count": 2,
   "metadata": {},
   "outputs": [],
   "source": [
    "def m1(x, y):\n",
    "    # Assume that there is pre complex task that takes 1 second\n",
    "    sleep(1)\n",
    "    return x + y + 2*x*y\n",
    "\n",
    "def m2(a, b):\n",
    "    # Assume that there is pre complex task that takes 1 second\n",
    "    sleep(1)\n",
    "    return a**3 - b**3\n",
    "\n",
    "def m3(p, q):\n",
    "    # Assume that there is pre complex task that takes 1 second\n",
    "    sleep(1)\n",
    "    return p*p + q*q"
   ]
  },
  {
   "cell_type": "markdown",
   "metadata": {},
   "source": [
    "# Sequential Approach"
   ]
  },
  {
   "cell_type": "code",
   "execution_count": 3,
   "metadata": {},
   "outputs": [
    {
     "name": "stdout",
     "output_type": "stream",
     "text": [
      "164256575818881099099436\n",
      "Wall time: 1min\n"
     ]
    }
   ],
   "source": [
    "%%time\n",
    "\n",
    "n = 20\n",
    "l1 = [i for i in range(n)]\n",
    "l2 = [i ** 2 for i in range(n)]\n",
    "l3 = [i ** 3 for i in range(n)]\n",
    "\n",
    "result = []\n",
    "for x, y, z in zip(l1, l2, l3):\n",
    "    t1 = m1(x, y)\n",
    "    t2 = m2(y, z)\n",
    "    t3 = m3(t1, t2)\n",
    "    result.append(t3)\n",
    "\n",
    "print(sum(result))"
   ]
  },
  {
   "cell_type": "markdown",
   "metadata": {},
   "source": [
    "# Use dask delayed function"
   ]
  },
  {
   "cell_type": "code",
   "execution_count": 4,
   "metadata": {},
   "outputs": [
    {
     "name": "stdout",
     "output_type": "stream",
     "text": [
      "164256575818881099099436\n",
      "Wall time: 9.05 s\n"
     ]
    }
   ],
   "source": [
    "%%time\n",
    "\n",
    "n = 20\n",
    "l1 = [i for i in range(n)]\n",
    "l2 = [i ** 2 for i in range(n)]\n",
    "l3 = [i ** 3 for i in range(n)]\n",
    "\n",
    "result = []\n",
    "for x, y, z in zip(l1, l2, l3):\n",
    "    t1 = delayed(m1)(x, y)\n",
    "    t2 = delayed(m2)(y, z)\n",
    "    t3 = delayed(m3)(t1, t2)\n",
    "    result.append(t3)\n",
    "\n",
    "print(sum(result).compute())"
   ]
  },
  {
   "cell_type": "code",
   "execution_count": 5,
   "metadata": {},
   "outputs": [
    {
     "name": "stdout",
     "output_type": "stream",
     "text": [
      "164256575818881099099436\n",
      "Wall time: 9.02 s\n"
     ]
    }
   ],
   "source": [
    "%%time\n",
    "\n",
    "n = 20\n",
    "l1 = [i for i in range(n)]\n",
    "l2 = [i ** 2 for i in range(n)]\n",
    "l3 = [i ** 3 for i in range(n)]\n",
    "\n",
    "result = []\n",
    "for x, y, z in zip(l1, l2, l3):\n",
    "    t1 = delayed(m1)(x, y)\n",
    "    t2 = delayed(m2)(y, z)\n",
    "    t3 = delayed(m3)(t1, t2)\n",
    "    result.append(t3)\n",
    "    \n",
    "final_sum = delayed(sum)(result)\n",
    "\n",
    "print(final_sum.compute())"
   ]
  },
  {
   "cell_type": "markdown",
   "metadata": {},
   "source": [
    "# Performance analysis for just one iteration"
   ]
  },
  {
   "cell_type": "code",
   "execution_count": 6,
   "metadata": {},
   "outputs": [
    {
     "name": "stdout",
     "output_type": "stream",
     "text": [
      "3753906328400\n",
      "Wall time: 3 s\n"
     ]
    }
   ],
   "source": [
    "%%time\n",
    "\n",
    "x = 5\n",
    "y = 25\n",
    "z = 125\n",
    "\n",
    "t1 = m1(x, y)\n",
    "t2 = m2(y, z)\n",
    "t3 = m3(t1, t2)\n",
    "\n",
    "print(t3)"
   ]
  },
  {
   "cell_type": "code",
   "execution_count": 7,
   "metadata": {},
   "outputs": [
    {
     "name": "stdout",
     "output_type": "stream",
     "text": [
      "3753906328400\n",
      "Wall time: 2 s\n"
     ]
    }
   ],
   "source": [
    "%%time\n",
    "\n",
    "x = 5\n",
    "y = 25\n",
    "z = 125\n",
    "\n",
    "t1 = delayed(m1)(x, y)\n",
    "t2 = delayed(m2)(y, z)\n",
    "t3 = delayed(m3)(t1, t2)\n",
    "\n",
    "print(t3.compute())"
   ]
  },
  {
   "cell_type": "markdown",
   "metadata": {},
   "source": [
    "The reason of one second less is because m1 and m2 runs together at the same time, see below task graph.  \n",
    "Therefore it saves 1 second then proceed to m3."
   ]
  },
  {
   "cell_type": "code",
   "execution_count": 8,
   "metadata": {},
   "outputs": [
    {
     "data": {
      "image/png": "[encoded data removed]",
      "text/plain": [
       "<IPython.core.display.Image object>"
      ]
     },
     "execution_count": 8,
     "metadata": {},
     "output_type": "execute_result"
    }
   ],
   "source": [
    "t3.visualize(rankdir='LR')"
   ]
  },
  {
   "cell_type": "code",
   "execution_count": null,
   "metadata": {},
   "outputs": [],
   "source": []
  },
  {
   "cell_type": "code",
   "execution_count": null,
   "metadata": {},
   "outputs": [],
   "source": []
  }
 ],
 "metadata": {
  "kernelspec": {
   "display_name": "Python 3",
   "language": "python",
   "name": "python3"
  },
  "language_info": {
   "codemirror_mode": {
    "name": "ipython",
    "version": 3
   },
   "file_extension": ".py",
   "mimetype": "text/x-python",
   "name": "python",
   "nbconvert_exporter": "python",
   "pygments_lexer": "ipython3",
   "version": "3.6.4"
  }
 },
 "nbformat": 4,
 "nbformat_minor": 2
}
